{
 "cells": [
  {
   "cell_type": "code",
   "execution_count": 3,
   "metadata": {},
   "outputs": [
    {
     "name": "stdout",
     "output_type": "stream",
     "text": [
      "所有用户:\n",
      "(1, 'John Doe', None, None, 25, 1, '2025-02-08 14:17:02')\n"
     ]
    }
   ],
   "source": [
    "import sqlite3\n",
    "\n",
    "# 连接到SQLite数据库\n",
    "# 如果数据库不存在，将会自动创建一个新的数据库文件\n",
    "conn = sqlite3.connect('../sqlite/example.db')\n",
    "\n",
    "# 创建一个游标对象，用于执行SQL语句\n",
    "cursor = conn.cursor()\n",
    "\n",
    "# 创建一个名为 'users' 的表\n",
    "cursor.execute('''\n",
    "CREATE TABLE IF NOT EXISTS trade_data (\n",
    "    id INTEGER PRIMARY KEY AUTOINCREMENT,\n",
    "    trade_name TEXT NOT NULL,\n",
    "    description TEXT,\n",
    "    trade_info TEXT,\n",
    "    quantity INTEGER,\n",
    "    is_completed INTEGER CHECK (is_completed IN (0, 1)),\n",
    "    created_at TIMESTAMP DEFAULT CURRENT_TIMESTAMP\n",
    ")\n",
    "''')\n",
    "\n",
    "\n",
    "# 判断索引是否存在\n",
    "cursor.execute(\"SELECT name FROM sqlite_master WHERE type='index' AND name='idx_trade_info'\")\n",
    "index_exists = cursor.fetchone()\n",
    "\n",
    "if not index_exists:\n",
    "    # 如果索引不存在，则创建索引\n",
    "    cursor.execute('''\n",
    "    CREATE INDEX idx_trade_info ON trade_data (trade_name, quantity, is_completed)\n",
    "    ''')\n",
    "\n",
    "# 插入数据\n",
    "cursor.execute(\"INSERT INTO trade_data (trade_name, quantity, is_completed) VALUES (?,?,?)\", ('John Doe', 25,1))\n",
    "\n",
    "# 提交事务\n",
    "conn.commit()\n",
    "\n",
    "# 查询数据\n",
    "cursor.execute(\"SELECT * FROM trade_data\")\n",
    "rows = cursor.fetchall()\n",
    "print(\"所有用户:\")\n",
    "for row in rows:\n",
    "    print(row)\n",
    "\n",
    "# # 更新数据\n",
    "# cursor.execute(\"UPDATE users SET age =? WHERE name =?\", (26, 'John Doe'))\n",
    "# conn.commit()\n",
    "\n",
    "# # 查询更新后的数据\n",
    "# cursor.execute(\"SELECT * FROM users WHERE name =?\", ('John Doe',))\n",
    "# row = cursor.fetchone()\n",
    "# print(\"\\n更新后的 John Doe:\")\n",
    "# print(row)\n",
    "\n",
    "# # 删除数据\n",
    "# cursor.execute(\"DELETE FROM users WHERE name =?\", ('Jane Smith',))\n",
    "# conn.commit()\n",
    "\n",
    "# # 查询删除后的数据\n",
    "# cursor.execute(\"SELECT * FROM users\")\n",
    "# rows = cursor.fetchall()\n",
    "# print(\"\\n删除 Jane Smith 后的所有用户:\")\n",
    "# for row in rows:\n",
    "#     print(row)\n",
    "\n",
    "# 关闭游标和连接\n",
    "cursor.close()\n",
    "conn.close()\n"
   ]
  },
  {
   "cell_type": "code",
   "execution_count": 11,
   "metadata": {},
   "outputs": [
    {
     "data": {
      "text/plain": [
       "(1, 2, 3, 4, 5, 6)"
      ]
     },
     "execution_count": 11,
     "metadata": {},
     "output_type": "execute_result"
    }
   ],
   "source": [
    "tuple([1,2,3]) + tuple([4,5,6])"
   ]
  },
  {
   "cell_type": "code",
   "execution_count": 10,
   "metadata": {},
   "outputs": [
    {
     "data": {
      "text/plain": [
       "True"
      ]
     },
     "execution_count": 10,
     "metadata": {},
     "output_type": "execute_result"
    }
   ],
   "source": [
    "a.keys() == c.keys()"
   ]
  },
  {
   "cell_type": "code",
   "execution_count": 15,
   "metadata": {},
   "outputs": [
    {
     "name": "stdout",
     "output_type": "stream",
     "text": [
      "{'a': 1, 'b': 2, 'c': [4], 'd': {'e': 5}}\n",
      "{'x': {'a': 1, 'b': 2, 'c': [4], 'd': {'e': 5}}}\n"
     ]
    }
   ],
   "source": [
    "\n",
    "\n",
    "xx = {'x': {'a':1, 'b':2, 'c':[], 'd':{}}}\n",
    "x = xx['x']\n",
    "\n",
    "a = x['a']\n",
    "b = x['b']\n",
    "c = x['c']\n",
    "d = x['d']\n",
    "\n",
    "a = 2\n",
    "b = 3\n",
    "c.append(4)\n",
    "d['e'] = 5\n",
    "\n",
    "print(x)\n",
    "print(xx)"
   ]
  },
  {
   "cell_type": "code",
   "execution_count": 16,
   "metadata": {},
   "outputs": [
    {
     "name": "stdout",
     "output_type": "stream",
     "text": [
      "字典已保存到 data.json\n"
     ]
    }
   ],
   "source": [
    "import json\n",
    "\n",
    "# 示例字典\n",
    "my_dict = {\n",
    "    \"name\": \"John\",\n",
    "    \"age\": 30,\n",
    "    \"city\": \"New York\",\n",
    "    \"is_student\": [1,2,3,4,5,6,8]\n",
    "}\n",
    "\n",
    "# 保存字典到文件\n",
    "file_path = \"data.json\"\n",
    "with open(file_path, 'w', encoding='utf-8') as file:\n",
    "    json.dump(my_dict, file, ensure_ascii=False, indent=4)\n",
    "\n",
    "print(f\"字典已保存到 {file_path}\")\n"
   ]
  },
  {
   "cell_type": "code",
   "execution_count": 2,
   "metadata": {},
   "outputs": [],
   "source": [
    "x = {'600477.SH': {'total_amount': 334644800.0, 'total_volume': 117037617, 'price_list': [2.83], 'avg_price_list': [2.8592926665620677], 'cost_diff': [31538.58909702301], 'times': [1739430004000]}}"
   ]
  },
  {
   "cell_type": "code",
   "execution_count": 4,
   "metadata": {},
   "outputs": [],
   "source": [
    "import json\n",
    "file_path = \"tick_snapshot.json\"\n",
    "with open(file_path, 'w', encoding='utf-8') as file:\n",
    "    json.dump(dict(x), file, ensure_ascii=False, indent=4)"
   ]
  },
  {
   "cell_type": "code",
   "execution_count": null,
   "metadata": {},
   "outputs": [],
   "source": []
  }
 ],
 "metadata": {
  "kernelspec": {
   "display_name": "python3.8",
   "language": "python",
   "name": "python3"
  },
  "language_info": {
   "codemirror_mode": {
    "name": "ipython",
    "version": 3
   },
   "file_extension": ".py",
   "mimetype": "text/x-python",
   "name": "python",
   "nbconvert_exporter": "python",
   "pygments_lexer": "ipython3",
   "version": "3.9.21"
  }
 },
 "nbformat": 4,
 "nbformat_minor": 2
}
