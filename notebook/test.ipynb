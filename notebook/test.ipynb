{
 "cells": [
  {
   "cell_type": "code",
   "execution_count": 2,
   "metadata": {},
   "outputs": [
    {
     "data": {
      "text/plain": [
       "[1, 2, 3, 4, 5]"
      ]
     },
     "execution_count": 2,
     "metadata": {},
     "output_type": "execute_result"
    }
   ],
   "source": [
    "a = [1,2,3,4,5,6,7,8]\n",
    "a[a.index(1): a.index(5) + 1]"
   ]
  },
  {
   "cell_type": "code",
   "execution_count": null,
   "metadata": {},
   "outputs": [],
   "source": [
    "import yaml\n",
    "from datetime import datetime\n",
    "\n",
    "# 读取YAML文件\n",
    "with open(r'd:/workspace/TradeX/ezMoney/roll_back.yml', 'r') as file:\n",
    "    configs = yaml.safe_load(file)\n",
    "\n",
    "# 获取当前日期\n",
    "current_date = datetime.now().strftime('%Y%m%d')\n",
    "\n",
    "# 填充save_path字段\n",
    "for config in configs['configs']:\n",
    "    config['save_path'] = config['save_path'].format(strategy_name=config['strategy_name'], current_date=current_date)\n",
    "\n",
    "# 打印更新后的配置\n",
    "print(configs)\n"
   ]
  }
 ],
 "metadata": {
  "kernelspec": {
   "display_name": "python3.8",
   "language": "python",
   "name": "python3"
  },
  "language_info": {
   "codemirror_mode": {
    "name": "ipython",
    "version": 3
   },
   "file_extension": ".py",
   "mimetype": "text/x-python",
   "name": "python",
   "nbconvert_exporter": "python",
   "pygments_lexer": "ipython3",
   "version": "3.9.21"
  }
 },
 "nbformat": 4,
 "nbformat_minor": 2
}
