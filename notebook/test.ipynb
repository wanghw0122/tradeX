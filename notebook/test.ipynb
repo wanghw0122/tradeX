{
 "cells": [
  {
   "cell_type": "code",
   "execution_count": 4,
   "metadata": {},
   "outputs": [
    {
     "name": "stderr",
     "output_type": "stream",
     "text": [
      "d:\\anaconda3\\envs\\python3.8\\lib\\site-packages\\exchange_calendars\\exchange_calendar.py:2345: FutureWarning: 'T' is deprecated and will be removed in a future version. Please use 'min' instead of 'T'.\n",
      "  align: pd.Timedelta | str = pd.Timedelta(1, \"T\"),\n"
     ]
    }
   ],
   "source": [
    "\n",
    "from py import log\n",
    "from xtquant import xttrader\n",
    "from xtquant import xtdata\n",
    "from xtquant.xttrader import XtQuantTrader, XtQuantTraderCallback\n",
    "from xtquant.xttype import StockAccount\n",
    "from xtquant import xtconstant\n",
    "import pandas_market_calendars as mcal\n",
    "import pandas as pd\n",
    "import akshare as ak"
   ]
  },
  {
   "cell_type": "code",
   "execution_count": 9,
   "metadata": {},
   "outputs": [],
   "source": [
    "xtdata.download_history_data(\"603305.SH\", period='1d', start_time='20241029', end_time='20241031', incrementally = None)\n",
    "x1dpdata = xtdata.get_local_data(field_list=[], stock_list=['603305.SH'], period='1d', start_time='20241029', end_time='20241031', count=-1, dividend_type='none', fill_data=True)"
   ]
  },
  {
   "cell_type": "code",
   "execution_count": 8,
   "metadata": {},
   "outputs": [
    {
     "data": {
      "text/plain": [
       "{'603305.SH':                    time   open   high    low  close  volume       amount  \\\n",
       " 20241029  1730131200000  12.52  13.52  12.52   13.0  741628  968310738.0   \n",
       " \n",
       "           settelementPrice  openInterest  preClose  suspendFlag  \n",
       " 20241029               0.0            15     12.42            0  }"
      ]
     },
     "execution_count": 8,
     "metadata": {},
     "output_type": "execute_result"
    }
   ],
   "source": [
    "x1dpdata"
   ]
  },
  {
   "cell_type": "code",
   "execution_count": null,
   "metadata": {},
   "outputs": [],
   "source": []
  }
 ],
 "metadata": {
  "kernelspec": {
   "display_name": "python3.8",
   "language": "python",
   "name": "python3"
  },
  "language_info": {
   "codemirror_mode": {
    "name": "ipython",
    "version": 3
   },
   "file_extension": ".py",
   "mimetype": "text/x-python",
   "name": "python",
   "nbconvert_exporter": "python",
   "pygments_lexer": "ipython3",
   "version": "3.9.21"
  }
 },
 "nbformat": 4,
 "nbformat_minor": 2
}
