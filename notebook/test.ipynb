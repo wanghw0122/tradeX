{
 "cells": [
  {
   "cell_type": "code",
   "execution_count": 1,
   "metadata": {},
   "outputs": [],
   "source": [
    "import sqlite3"
   ]
  },
  {
   "cell_type": "code",
   "execution_count": 2,
   "metadata": {},
   "outputs": [
    {
     "name": "stdout",
     "output_type": "stream",
     "text": [
      "所有用户:\n",
      "(1, 'John Doe', 25)\n",
      "(2, 'Jane Smith', 30)\n",
      "\n",
      "更新后的 John Doe:\n",
      "(1, 'John Doe', 26)\n",
      "\n",
      "删除 Jane Smith 后的所有用户:\n",
      "(1, 'John Doe', 26)\n"
     ]
    }
   ],
   "source": [
    "import sqlite3\n",
    "\n",
    "# 连接到SQLite数据库\n",
    "# 如果数据库不存在，将会自动创建一个新的数据库文件\n",
    "conn = sqlite3.connect('example.db')\n",
    "\n",
    "# 创建一个游标对象，用于执行SQL语句\n",
    "cursor = conn.cursor()\n",
    "\n",
    "# 创建一个名为 'users' 的表\n",
    "cursor.execute('''\n",
    "CREATE TABLE IF NOT EXISTS users (\n",
    "    id INTEGER PRIMARY KEY AUTOINCREMENT,\n",
    "    name TEXT NOT NULL,\n",
    "    age INTEGER\n",
    ")\n",
    "''')\n",
    "\n",
    "# 插入数据\n",
    "cursor.execute(\"INSERT INTO users (name, age) VALUES (?,?)\", ('John Doe', 25))\n",
    "cursor.execute(\"INSERT INTO users (name, age) VALUES (?,?)\", ('Jane Smith', 30))\n",
    "\n",
    "# 提交事务\n",
    "conn.commit()\n",
    "\n",
    "# 查询数据\n",
    "cursor.execute(\"SELECT * FROM users\")\n",
    "rows = cursor.fetchall()\n",
    "print(\"所有用户:\")\n",
    "for row in rows:\n",
    "    print(row)\n",
    "\n",
    "# 更新数据\n",
    "cursor.execute(\"UPDATE users SET age =? WHERE name =?\", (26, 'John Doe'))\n",
    "conn.commit()\n",
    "\n",
    "# 查询更新后的数据\n",
    "cursor.execute(\"SELECT * FROM users WHERE name =?\", ('John Doe',))\n",
    "row = cursor.fetchone()\n",
    "print(\"\\n更新后的 John Doe:\")\n",
    "print(row)\n",
    "\n",
    "# 删除数据\n",
    "cursor.execute(\"DELETE FROM users WHERE name =?\", ('Jane Smith',))\n",
    "conn.commit()\n",
    "\n",
    "# 查询删除后的数据\n",
    "cursor.execute(\"SELECT * FROM users\")\n",
    "rows = cursor.fetchall()\n",
    "print(\"\\n删除 Jane Smith 后的所有用户:\")\n",
    "for row in rows:\n",
    "    print(row)\n",
    "\n",
    "# 关闭游标和连接\n",
    "cursor.close()\n",
    "conn.close()\n"
   ]
  },
  {
   "cell_type": "code",
   "execution_count": null,
   "metadata": {},
   "outputs": [],
   "source": [
    "\n"
   ]
  }
 ],
 "metadata": {
  "kernelspec": {
   "display_name": "python3.8",
   "language": "python",
   "name": "python3"
  },
  "language_info": {
   "codemirror_mode": {
    "name": "ipython",
    "version": 3
   },
   "file_extension": ".py",
   "mimetype": "text/x-python",
   "name": "python",
   "nbconvert_exporter": "python",
   "pygments_lexer": "ipython3",
   "version": "3.9.21"
  }
 },
 "nbformat": 4,
 "nbformat_minor": 2
}
